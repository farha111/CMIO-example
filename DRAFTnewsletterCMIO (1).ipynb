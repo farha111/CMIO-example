from IPython.display import display, HTML

# Updated HTML structure for the enhanced newsletter with smaller DAX image
newsletter_html = """
<!DOCTYPE html>
<html lang="en">
<head>
    <meta charset="UTF-8">
    <meta name="viewport" content="width=device-width, initial-scale=1.0">
    <style>
        @import url('https://fonts.googleapis.com/css2?family=Roboto:wght@400;700&family=Montserrat:wght@700&display=swap');

        /* General Styling */
        body {
            font-family: 'Roboto', sans-serif;
            color: #333;
            background-color: #f0f4f8;
            padding: 10px;
            margin: 0;
            background-image: url('https://img.freepik.com/free-vector/geometric-background-colorful-gradient_677411-3451.jpg?size=626&ext=jpg&ga=GA1.1.87617221.1726150153&semt=ais_hybrid');
            background-repeat: no-repeat;
            background-size: cover;
        }
        .container {
            margin: 0 auto;
            padding: 20px;
            background-color: white;
            border-radius: 12px;
            box-shadow: 0 6px 12px rgba(0, 0, 0, 0.1);
            max-width: 900px;
            border: 10px solid transparent;
            background-clip: padding-box;
            border-image: url('https://img.freepik.com/free-vector/geometric-background-colorful-gradient_677411-3451.jpg?size=626&ext=jpg&ga=GA1.1.87617221.1726150153&semt=ais_hybrid') 30;
        }
        .header {
            text-align: center;
            background-image: url('https://billing.christianacare.org/themes/cchstransparency/images/footer-logo.png');
            background-size: cover;
            background-position: center;
            transform: rotate(180deg); /* Flipped Image */
            padding: 30px;
            border-radius: 8px;
        }
        .title {
            font-family: 'Montserrat', sans-serif;
            font-size: 32px;
            color: #0047AB;
            font-weight: bold;
            text-align: center;
            letter-spacing: 1px;
            margin-bottom: 10px;
            text-transform: uppercase;
        }
        .subheading {
            font-style: italic;
            color: #008080;
            text-align: center;
            font-size: 20px;
            margin-bottom: 5px;
        }
        .date {
             font-style: italic;font-size: 18px;
            color: #004080;
            text-align: center;
        }
        .section {
            margin-bottom: 40px;
        }
        h2 {
            color: #004080;
            font-size: 24px;
            margin-top: 20px;
            font-weight: bold;
            text-transform: uppercase;
            border-bottom: 2px solid #004080;
            padding-bottom: 5px;
        }
        p {
            font-size: 16px;
            line-height: 1.6;
            color: #333;
        }
        a {
            color: #004080;
            text-decoration: none;
        }
        a:hover {
            text-decoration: underline;
        }

        /* Styling for the table of contents */
        .toc ul {
            list-style-type: disc; /* Numbered list for Table of Contents */
            padding-left: 20px;
        }
        .toc ul li {
            font-size: 18px;
            margin-bottom: 10px;
        }
        .toc ul li a {
            font-weight: bold;
            color: #004080;
        }

        /* Styling for Submit Your Ideas section (more fun, bright colors) */
        .fun-section {
            background-color: #e6f7ff; /* Bright light blue */
            color: #005cbf; /* Bright blue */
            padding: 20px;
            border-radius: 12px;
            text-align: center;
            font-size: 16px;
            box-shadow: 0 4px 10px rgba(0, 123, 255, 0.2);
        }
        .fun-section h2 {
            font-size: 28px;
            color: #ff6600; /* Bright orange */
            text-transform: uppercase;
            margin-bottom: 15px;
        }
        .fun-section p {
            font-size: 16px;
        }
        .fun-section a {
            color: #ff6600;
            font-weight: bold;
        }
        .fun-section a:hover {
            text-decoration: underline;
        }

        /* Mobile Adjustments */
        @media only screen and (max-width: 600px) {
            .container {
                padding: 10px;
                max-width: 50%;
                border: none;
            }
            .title {
                font-size: 26px;
            }
            .subheading, .date {
                font-size: 16px;
            }
            h2 {
                font-size: 20px;
            }
            .toc ul li {
                font-size: 16px;
            }
            p {
                font-size: 14px;
            }
        }
    </style>
</head>
<body>
    <div class="container">
        <div class="header">
            <!-- Flipped Image Header -->
        </div>
        
        <div class="title">CMIO Team Monthly IT Newsletter</div>
        <div class="subheading">Bringing the Latest IT Updates, News, and Tips to Our Healthcare Providers</div>
        <div class="date">September '24</div>

        <!-- Table of Contents Section -->
        <div class="section toc">
            <h2>In this Issue:</h2>
            <ul>
                <li><a href="#dax-ai">Introducing DAX AI Copilot</a></li>
                <li><a href="#vocera">Tips & Tricks: Easily Call a Nurse Based on Patient Room #</a></li>
                <li><a href="#quick-it">Quick IT Incident Submission</a></li>
                <li><a href="#submit-ideas">Submit Your Ideas!</a></li>
            </ul>
        </div>

        <div id="dax-ai" class="section">
            <h2>Introducing DAX AI Copilot</h2>
            <p>We’re excited to introduce DAX AI Copilot, an AI tool that automates documentation during patient encounters. It listens in real-time, allowing you to focus on patient care while transcribing conversations and entering info into the EMR.</p>
            <p><b>How It Works:</b> DAX listens to the patient-provider interaction and captures key data like symptoms, diagnosis, and treatment plans to ensure accurate and timely documentation.</p>
            <p><b>Integration:</b> DAX will be integrated into the PowerMic Mobile app. If you already have the app, no need to download anything new. For those without it, instructions for setup will be shared soon.</p>
            <p><b>Timeline:</b> Our CMIO team is piloting DAX—stay tuned! Providers will attend training in October.</p>
            <!-- Reduced Image Size by 50% -->
            <img src="https://hitconsultant.net/wp-content/uploads/2023/09/IMG_2729-1500x799.png" alt="DAX AI Copilot Image" style="width:50%; height:auto;">
        </div>

        <div id="vocera" class="section">
            <h2>Tips & Tricks: Contacting Staff via Vocera</h2>
            <p>Did you know you can reach staff on Vocera, even if you don’t know their name? Here’s how:</p>
            <p><b>Contacting a Nurse:</b> Using a hospital phone, Dial 6222, then say “nurse 6E 15” (you could also say bed A or bed B). You can also use “6E Charge Nurse.” </p>
            <p><b>For Those Outside the Hospital:</b> Dial 302-733-6222 and follow the same steps for room/role-based contact.</p>
            <p><b>Shortcut:</b> Use the dot phrase .nurse_for_patient for quick access.</p>
        </div>

        <!-- Quick IT Incident Submission Section -->
        <div id="quick-it" class="section">
            <h2>Quick IT Incident Submission</h2>
            <!-- First Image with inline CSS -->
            <img src="https://i.ibb.co/DVV9jtK/IT-incident-sumbission.png" alt="Quick IT Incident Submission Icon" style="width:58px; height:85px; display:block; margin:auto;">
            <p>Reporting computer or application issues is easier than ever with the Quick IT Incident Submission tool. No need to call or wait—submit problems in a few clicks.</p>
            <!-- New Image with inline CSS -->
            <img src="https://i.ibb.co/8DKWXHB/it-incident.png" alt="IT Incident Submission" style="width:250px; height:200px; display:block; margin:auto;">
    
            <ul>
                <li><b>Find the Icon:</b> Look for the Quick IT Submission icon on your desktop.</li>
                <li><b>Choose Your Issue:</b> Select whether it’s a physical or application problem.</li>
                <li><b>No Contact Option:</b> If you prefer, check the option to let IT fix the issue without contacting you.</li>
                <li>Stay tuned for more updates and tips!</li>
            </ul>
        </div>

        <!-- Fun and Vibrant Submit Your Ideas Section -->
        <div id="submit-ideas" class="section fun-section">
            <h2>Submit Your Ideas!</h2>
            <p>We want to hear from you! If you have ideas, suggestions, or feedback about how to improve our IT systems or processes, send them to <a href="mailto:ProviderITsuggestionbox@christianacare.org">ProviderITsuggestionbox@christianacare.org</a>.</p>
        </div>
    </div>
</body>
</html>
"""

